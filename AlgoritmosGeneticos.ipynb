{
  "nbformat": 4,
  "nbformat_minor": 0,
  "metadata": {
    "colab": {
      "provenance": [],
      "authorship_tag": "ABX9TyPguY+zreNw+IkttQoORzwF",
      "include_colab_link": true
    },
    "kernelspec": {
      "name": "python3",
      "display_name": "Python 3"
    },
    "language_info": {
      "name": "python"
    }
  },
  "cells": [
    {
      "cell_type": "markdown",
      "metadata": {
        "id": "view-in-github",
        "colab_type": "text"
      },
      "source": [
        "<a href=\"https://colab.research.google.com/github/kaiquedm12/InteligenciaArtificial/blob/main/AlgoritmosGeneticos.ipynb\" target=\"_parent\"><img src=\"https://colab.research.google.com/assets/colab-badge.svg\" alt=\"Open In Colab\"/></a>"
      ]
    },
    {
      "cell_type": "code",
      "execution_count": null,
      "metadata": {
        "id": "arYfMuHy_6V8"
      },
      "outputs": [],
      "source": [
        "import numpy as np\n",
        "import pandas as pd\n",
        "import random as rd\n",
        "from random import randint\n",
        "import matplotlib.pyplot as plt"
      ]
    },
    {
      "cell_type": "code",
      "source": [
        "## Número de itens - 10\n",
        "n=10\n",
        "numero_itens=np.arange(1,n+1)\n",
        "\n",
        "#Gerando randomicamente os pesos\n",
        "pesos=[2.5,1.8,0.7,2.1,1.5,2.2,0.9,1.6,0.5,1.1]\n",
        "\n",
        "#Gerando randomicamente os valores de cada item.\n",
        "valores=[2000,1450,3400,1900,1300,1000,600,1300,400,900]\n",
        "\n",
        "nomes=['Smartphone Samsung Galaxy S21',\n",
        "'Notebook Dell Inspiron 15',\n",
        "'Fone de Ouvido Bluetooth JBL',\n",
        "'Smartwatch Samsung Galaxy Watch 3',\n",
        "'Tablet Apple iPad 10.2',\n",
        "'Câmera Digital Canon EOS Rebel T7',\n",
        "'Mouse Gamer Logitech G Pro',\n",
        "'Teclado Mecânico Redragon Kumara',\n",
        "'Caixa de Som Bluetooth JBL GO',\n",
        "'Smartband Xiaomi Mi Band 6']\n",
        "\n",
        "# definindo o peso máximo para mochila.\n",
        "max_peso_mochila=7\n"
      ],
      "metadata": {
        "id": "E7w2oIF5A3Ob"
      },
      "execution_count": null,
      "outputs": []
    },
    {
      "cell_type": "code",
      "source": [
        "for i in range (numero_itens.shape[0]):\n",
        "  print('Item: {} \\nPeso(Kg): \\nValor($): {} \\n'.format(nomes[i], pesos[i], valores[i]))\n"
      ],
      "metadata": {
        "colab": {
          "base_uri": "https://localhost:8080/"
        },
        "collapsed": true,
        "id": "Ly6X-zWlBaS9",
        "outputId": "f2cda54e-e6c8-40be-8d56-c4e185f23f52"
      },
      "execution_count": null,
      "outputs": [
        {
          "output_type": "stream",
          "name": "stdout",
          "text": [
            "Item: Smartphone Samsung Galaxy S21 \n",
            "Peso(Kg): \n",
            "Valor($): 2.5 \n",
            "\n",
            "Item: Notebook Dell Inspiron 15 \n",
            "Peso(Kg): \n",
            "Valor($): 1.8 \n",
            "\n",
            "Item: Fone de Ouvido Bluetooth JBL \n",
            "Peso(Kg): \n",
            "Valor($): 0.7 \n",
            "\n",
            "Item: Smartwatch Samsung Galaxy Watch 3 \n",
            "Peso(Kg): \n",
            "Valor($): 2.1 \n",
            "\n",
            "Item: Tablet Apple iPad 10.2 \n",
            "Peso(Kg): \n",
            "Valor($): 1.5 \n",
            "\n",
            "Item: Câmera Digital Canon EOS Rebel T7 \n",
            "Peso(Kg): \n",
            "Valor($): 2.2 \n",
            "\n",
            "Item: Mouse Gamer Logitech G Pro \n",
            "Peso(Kg): \n",
            "Valor($): 0.9 \n",
            "\n",
            "Item: Teclado Mecânico Redragon Kumara \n",
            "Peso(Kg): \n",
            "Valor($): 1.6 \n",
            "\n",
            "Item: Caixa de Som Bluetooth JBL GO \n",
            "Peso(Kg): \n",
            "Valor($): 0.5 \n",
            "\n",
            "Item: Smartband Xiaomi Mi Band 6 \n",
            "Peso(Kg): \n",
            "Valor($): 1.1 \n",
            "\n"
          ]
        }
      ]
    },
    {
      "cell_type": "code",
      "source": [
        "#Número de soluções ou indivíduos por população\n",
        "solucao_por_populacao = 8\n",
        "tamanho_populacao = (solucao_por_populacao,numero_itens.shape[0])\n",
        "\n",
        "print('Tamanho da população = {}'.format(tamanho_populacao))\n",
        "print('Numero de indivíduos (soluçao) = {}'.format(tamanho_populacao[0]))\n",
        "print('Número itens (genes) = {}'.format(tamanho_populacao[1]))"
      ],
      "metadata": {
        "colab": {
          "base_uri": "https://localhost:8080/"
        },
        "id": "HNfh_g3fCGn1",
        "outputId": "bc86cf0b-4df5-48fe-a15d-8211c4eb4fd1"
      },
      "execution_count": null,
      "outputs": [
        {
          "output_type": "stream",
          "name": "stdout",
          "text": [
            "Tamanho da população = (8, 10)\n",
            "Numero de indivíduos (soluçao) = 8\n",
            "Número itens (genes) = 10\n"
          ]
        }
      ]
    },
    {
      "cell_type": "code",
      "source": [
        "n_geracoes = 10\n",
        "\n",
        "populacao_inicial = np.eye(tamanho_populacao[0],tamanho_populacao[1], k=0)\n",
        "\n",
        "populacao_inicial = populacao_inicial.astype(int)\n",
        "\n",
        "print('População Inicial:\\n {}'.format(populacao_inicial))"
      ],
      "metadata": {
        "colab": {
          "base_uri": "https://localhost:8080/"
        },
        "id": "1UfNLuV3CymO",
        "outputId": "99544e7e-eb41-4c7e-8be8-3aeb196289e3"
      },
      "execution_count": null,
      "outputs": [
        {
          "output_type": "stream",
          "name": "stdout",
          "text": [
            "População Inicial:\n",
            " [[1 0 0 0 0 0 0 0 0 0]\n",
            " [0 1 0 0 0 0 0 0 0 0]\n",
            " [0 0 1 0 0 0 0 0 0 0]\n",
            " [0 0 0 1 0 0 0 0 0 0]\n",
            " [0 0 0 0 1 0 0 0 0 0]\n",
            " [0 0 0 0 0 1 0 0 0 0]\n",
            " [0 0 0 0 0 0 1 0 0 0]\n",
            " [0 0 0 0 0 0 0 1 0 0]]\n"
          ]
        }
      ]
    },
    {
      "cell_type": "code",
      "source": [
        "def cal_fitness(peso, valor, populacao, max_peso_mochila):\n",
        "    fitness = np.zeros(populacao.shape[0])\n",
        "\n",
        "    for i in range(populacao.shape[0]):\n",
        "\n",
        "      s1 = np.sum(populacao[i] * valor)\n",
        "      s2 = np.sum(populacao[i] * peso)\n",
        "\n",
        "      if s2 <= max_peso_mochila:\n",
        "        fitness[i] = s1\n",
        "      else:\n",
        "        fitness[i] = 0\n",
        "\n",
        "    return fitness.astype(float)"
      ],
      "metadata": {
        "id": "_boaxrQ1EFNm"
      },
      "execution_count": null,
      "outputs": []
    },
    {
      "cell_type": "code",
      "source": [
        "cal_fitness(pesos, valores, populacao_inicial, max_peso_mochila)"
      ],
      "metadata": {
        "colab": {
          "base_uri": "https://localhost:8080/"
        },
        "id": "yTJniPQdFZOH",
        "outputId": "06572c52-1b03-42ee-81c2-696c3a59687e"
      },
      "execution_count": null,
      "outputs": [
        {
          "output_type": "execute_result",
          "data": {
            "text/plain": [
              "array([2000., 1450., 3400., 1900., 1300., 1000.,  600., 1300.])"
            ]
          },
          "metadata": {},
          "execution_count": 12
        }
      ]
    },
    {
      "cell_type": "code",
      "source": [
        "def selecao_roleta(fitness, numero_pais, populacao):\n",
        "  max_fitness = sum(fitness)\n",
        "\n",
        "  probabilidades = fitness/max_fitness\n",
        "\n",
        "  selecionados = populacao[np.random.choice(len(populacao), size=numero_pais, p=probabilidades)]\n",
        "\n",
        "  return selecionados"
      ],
      "metadata": {
        "id": "iDSpigVHF9AX"
      },
      "execution_count": null,
      "outputs": []
    },
    {
      "cell_type": "code",
      "source": [
        "def crossover(pais, numero_filhos):\n",
        "  filhos = np.zeros((numero_filhos, pais.shape[1]))\n",
        "\n",
        "  ponto_crossover = int(pais.shape[1]/2)\n",
        "\n",
        "  for k in range(numero_filhos):\n",
        "    pai_1_idx = k%pais.shape[0]\n",
        "    pai_2_idx = (k+1)%pais.shape[0]\n",
        "\n",
        "    filhos[k, 0:ponto_crossover] = pais[pai_1_idx, 0:ponto_crossover]\n",
        "    filhos[k, ponto_crossover:] = pais[pai_2_idx, ponto_crossover:]\n",
        "\n",
        "  return filhos"
      ],
      "metadata": {
        "id": "GJpOsDn7ty6n"
      },
      "execution_count": null,
      "outputs": []
    }
  ]
}